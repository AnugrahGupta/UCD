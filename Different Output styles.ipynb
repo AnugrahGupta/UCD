{
 "cells": [
  {
   "cell_type": "code",
   "execution_count": 8,
   "metadata": {},
   "outputs": [
    {
     "name": "stdout",
     "output_type": "stream",
     "text": [
      "There are 71 people in this room now\n",
      "There are 71 people in this room now \n",
      "There are 71 people in this room now\n",
      "There are 71 people in this room now\n",
      "Order: 1 2.0 3\n",
      "Chaos: 3 1 2.0\n",
      "3 = 3.000000 = 3.000000e+00\n",
      "1 is 1.000000 is not 2.000000\n"
     ]
    }
   ],
   "source": [
    "lecturers = 1\n",
    "students = 70\n",
    "place = \"room\"\n",
    "print(\"There are\", students + lecturers, \\\n",
    "\"people in this\", place , \"now\")\n",
    "print(\"There are \" + str( students + lecturers ) \\\n",
    " + \" people in this \" + place + \" now \")\n",
    "print(f\"There are { students + lecturers } people in this { place } now\")\n",
    "print(\"There are {} people in this {} \\\n",
    "now\".format( students + lecturers , place))\n",
    "print (\"Order: {0} {1} {2}\".format (1, 2.0, \"3\"))\n",
    "print(\"Chaos: {2} {0} {1}\".format (1, 2.0, \"3\"))\n",
    "print(\"{:d} = {:f} = {:e}\".format(3,3,3))\n",
    "print (\"{0:d} is {0:f} is not, {1:f}\".format(1,2))\n"
   ]
  }
 ],
 "metadata": {
  "kernelspec": {
   "display_name": "Python 3.9.12 ('base')",
   "language": "python",
   "name": "python3"
  },
  "language_info": {
   "codemirror_mode": {
    "name": "ipython",
    "version": 3
   },
   "file_extension": ".py",
   "mimetype": "text/x-python",
   "name": "python",
   "nbconvert_exporter": "python",
   "pygments_lexer": "ipython3",
   "version": "3.9.12"
  },
  "orig_nbformat": 4,
  "vscode": {
   "interpreter": {
    "hash": "ad2bdc8ecc057115af97d19610ffacc2b4e99fae6737bb82f5d7fb13d2f2c186"
   }
  }
 },
 "nbformat": 4,
 "nbformat_minor": 2
}
